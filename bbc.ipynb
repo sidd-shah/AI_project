{
 "cells": [
  {
   "cell_type": "code",
   "execution_count": 6,
   "metadata": {
    "collapsed": false
   },
   "outputs": [],
   "source": [
    "import numpy as np\n",
    "import pandas as pd\n",
    "import sklearn\n",
    "from sklearn import datasets"
   ]
  },
  {
   "cell_type": "code",
   "execution_count": 166,
   "metadata": {
    "collapsed": false
   },
   "outputs": [],
   "source": [
    "import sklearn\n",
    "business = datasets.load_files('bbc_docs/', categories=['business'])\n",
    "entertainment = datasets.load_files('bbc_docs/', categories=['entertainment'])\n",
    "politics = datasets.load_files('bbc_docs/', categories=['politics'])\n",
    "tech = datasets.load_files('bbc_docs/', categories=['tech'])\n",
    "sports = datasets.load_files('bbc_docs/', categories=['business'])"
   ]
  },
  {
   "cell_type": "code",
   "execution_count": 170,
   "metadata": {
    "collapsed": false
   },
   "outputs": [],
   "source": [
    "entertainment['target'][:] = 1\n",
    "politics['target'][:] = 2\n",
    "tech['target'][:] = 3\n",
    "sports['target'][:] = 4\n"
   ]
  },
  {
   "cell_type": "code",
   "execution_count": 12,
   "metadata": {
    "collapsed": false
   },
   "outputs": [],
   "source": [
    "from sklearn.model_selection import ShuffleSplit"
   ]
  },
  {
   "cell_type": "code",
   "execution_count": 27,
   "metadata": {
    "collapsed": false
   },
   "outputs": [],
   "source": [
    "ss = ShuffleSplit(1, 0.2, 0.8)"
   ]
  },
  {
   "cell_type": "code",
   "execution_count": 171,
   "metadata": {
    "collapsed": false
   },
   "outputs": [],
   "source": [
    "business_train = {}\n",
    "business_test = {}\n",
    "tech_train= {}\n",
    "tech_test = {}\n",
    "politics_train ={}\n",
    "politics_test = {}\n",
    "sports_train = {}\n",
    "sports_test = {}\n",
    "entertainment_train = {}\n",
    "entertainment_test = {}"
   ]
  },
  {
   "cell_type": "code",
   "execution_count": 57,
   "metadata": {
    "collapsed": true
   },
   "outputs": [],
   "source": [
    "def unison_shuffled_copies(a, b):\n",
    "    p = np.random.permutation(len(a))\n",
    "    return np.array(a)[p], np.array(b)[p]"
   ]
  },
  {
   "cell_type": "code",
   "execution_count": 143,
   "metadata": {
    "collapsed": true
   },
   "outputs": [],
   "source": [
    "def split_classes_into_test_train():\n",
    "    train_threshold = 0.8\n",
    "\n",
    "    entertainment_train['data'] = entertainment['data'][:int(len(entertainment['data'])*train_threshold)]\n",
    "    entertainment_train['target'] = entertainment['target'][:int(len(entertainment['target'])* train_threshold)]\n",
    "    entertainment_test['data'] = entertainment['data'][int(len(entertainment['data'])*train_threshold):]\n",
    "    entertainment_test['target'] = entertainment['target'][int(len(entertainment['target'])* train_threshold):]\n",
    "\n",
    "    business_train['data'] = business['data'][:int(len(business['data'])*train_threshold)]\n",
    "    business_train['target'] = business['target'][:int(len(business['target'])* train_threshold)]\n",
    "    business_test['data'] = business['data'][int(len(business['data'])*train_threshold):]\n",
    "    business_test['target'] = business['target'][int(len(business['target'])* train_threshold):]\n",
    "\n",
    "\n",
    "    tech_train['data'] = tech['data'][:int(len(tech['data'])*train_threshold)]\n",
    "    tech_train['target'] = tech['target'][:int(len(tech['target'])* train_threshold)]\n",
    "    tech_test['data'] = tech['data'][int(len(tech['data'])*train_threshold):]\n",
    "    tech_test['target'] = tech['target'][int(len(tech['target'])* train_threshold):]\n",
    "\n",
    "    sports_train['data'] = sports['data'][:int(len(sports['data'])*train_threshold)]\n",
    "    sports_train['target'] = sports['target'][:int(len(sports['target'])* train_threshold)]\n",
    "    sports_test['data'] = sports['data'][int(len(sports['data'])*train_threshold):]\n",
    "    sports_test['target'] = sports['target'][int(len(sports['target'])* train_threshold):]\n",
    "\n",
    "    politics_train['data'] = politics['data'][:int(len(politics['data'])*train_threshold)]\n",
    "    politics_train['target'] = politics['target'][:int(len(politics['target'])* train_threshold)]\n",
    "    politics_test['data'] = politics['data'][int(len(politics['data'])*train_threshold):]\n",
    "    politics_test['target'] = politics['target'][int(len(politics['target'])* train_threshold):]"
   ]
  },
  {
   "cell_type": "code",
   "execution_count": 172,
   "metadata": {
    "collapsed": false
   },
   "outputs": [],
   "source": [
    "split_classes_into_test_train()"
   ]
  },
  {
   "cell_type": "code",
   "execution_count": 173,
   "metadata": {
    "collapsed": false
   },
   "outputs": [],
   "source": [
    "train_data = {}\n",
    "train_data['data'] = entertainment_train['data']+ business_train['data']+ tech_train['data']+ sports_train['data']+ politics_train['data']\n",
    "train_data['target'] = np.append(np.append(np.append(np.append(entertainment_train['target'], business_train['target']), tech_train['target']), sports_train['target']), politics_train['target'])"
   ]
  },
  {
   "cell_type": "code",
   "execution_count": 174,
   "metadata": {
    "collapsed": true
   },
   "outputs": [],
   "source": [
    "test_data = {}\n",
    "test_data['data'] = entertainment_test['data']+ business_test['data']+ tech_test['data']+ sports_test['data']+ politics_test['data']\n",
    "test_data['target'] = np.append(np.append(np.append(np.append(entertainment_test['target'], business_test['target']), tech_test['target']), sports_test['target']), politics_test['target'])"
   ]
  },
  {
   "cell_type": "code",
   "execution_count": 175,
   "metadata": {
    "collapsed": false
   },
   "outputs": [
    {
     "data": {
      "text/plain": [
       "1777"
      ]
     },
     "execution_count": 175,
     "metadata": {},
     "output_type": "execute_result"
    }
   ],
   "source": [
    "len(train_data['target'])"
   ]
  },
  {
   "cell_type": "code",
   "execution_count": 148,
   "metadata": {
    "collapsed": false
   },
   "outputs": [
    {
     "data": {
      "text/plain": [
       "447"
      ]
     },
     "execution_count": 148,
     "metadata": {},
     "output_type": "execute_result"
    }
   ],
   "source": [
    "len(test_data['target'])"
   ]
  },
  {
   "cell_type": "code",
   "execution_count": 150,
   "metadata": {
    "collapsed": true
   },
   "outputs": [],
   "source": [
    "from sklearn.feature_extraction.text import CountVectorizer\n",
    "from sklearn.pipeline import Pipeline\n",
    "from sklearn.naive_bayes import MultinomialNB"
   ]
  },
  {
   "cell_type": "code",
   "execution_count": 151,
   "metadata": {
    "collapsed": true
   },
   "outputs": [],
   "source": [
    "count_vect = CountVectorizer(decode_error='ignore')"
   ]
  },
  {
   "cell_type": "code",
   "execution_count": 152,
   "metadata": {
    "collapsed": true
   },
   "outputs": [],
   "source": [
    "clf = Pipeline([('vect', count_vect),\n",
    "                ('clf', MultinomialNB(alpha=0.1)),\n",
    "            ])"
   ]
  },
  {
   "cell_type": "code",
   "execution_count": 181,
   "metadata": {
    "collapsed": false
   },
   "outputs": [
    {
     "data": {
      "text/plain": [
       "Pipeline(steps=[('vect', CountVectorizer(analyzer=u'word', binary=False, decode_error='ignore',\n",
       "        dtype=<type 'numpy.int64'>, encoding=u'utf-8', input=u'content',\n",
       "        lowercase=True, max_df=1.0, max_features=None, min_df=1,\n",
       "        ngram_range=(1, 1), preprocessor=None, stop_words=None,\n",
       "        strip_accents=None, token_pattern=u'(?u)\\\\b\\\\w\\\\w+\\\\b',\n",
       "        tokenizer=None, vocabulary=None)), ('clf', MultinomialNB(alpha=0.1, class_prior=None, fit_prior=True))])"
      ]
     },
     "execution_count": 181,
     "metadata": {},
     "output_type": "execute_result"
    }
   ],
   "source": [
    "clf.fit(train_data['data'], train_data['target'])"
   ]
  },
  {
   "cell_type": "code",
   "execution_count": 182,
   "metadata": {
    "collapsed": true
   },
   "outputs": [],
   "source": [
    "predicted = clf.predict(test_data['data'])"
   ]
  },
  {
   "cell_type": "code",
   "execution_count": 109,
   "metadata": {
    "collapsed": true
   },
   "outputs": [],
   "source": [
    "import sklearn.metrics as metrics"
   ]
  },
  {
   "cell_type": "code",
   "execution_count": 183,
   "metadata": {
    "collapsed": false
   },
   "outputs": [
    {
     "data": {
      "text/plain": [
       "(0.66211922792233679, 0.7728506787330317, 0.70254158454867954, None)"
      ]
     },
     "execution_count": 183,
     "metadata": {},
     "output_type": "execute_result"
    }
   ],
   "source": [
    "metrics.precision_recall_fscore_support(test_data['target'], predicted,average='macro')"
   ]
  },
  {
   "cell_type": "code",
   "execution_count": null,
   "metadata": {
    "collapsed": true
   },
   "outputs": [],
   "source": []
  }
 ],
 "metadata": {
  "kernelspec": {
   "display_name": "Python 2",
   "language": "python",
   "name": "python2"
  },
  "language_info": {
   "codemirror_mode": {
    "name": "ipython",
    "version": 2
   },
   "file_extension": ".py",
   "mimetype": "text/x-python",
   "name": "python",
   "nbconvert_exporter": "python",
   "pygments_lexer": "ipython2",
   "version": "2.7.10"
  }
 },
 "nbformat": 4,
 "nbformat_minor": 1
}
